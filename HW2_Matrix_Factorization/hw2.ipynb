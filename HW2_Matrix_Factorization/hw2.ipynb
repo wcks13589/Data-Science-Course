{
 "cells": [
  {
   "cell_type": "code",
   "execution_count": 1,
   "metadata": {},
   "outputs": [],
   "source": [
    "import numpy as np\n",
    "import pandas as pd\n",
    "import matplotlib.pyplot as plt\n",
    "from tqdm.notebook import tqdm\n",
    "from sklearn.metrics import mean_squared_error\n",
    "from sklearn.model_selection import train_test_split"
   ]
  },
  {
   "cell_type": "code",
   "execution_count": 2,
   "metadata": {},
   "outputs": [],
   "source": [
    "df = pd.read_table('ratings.data',names=['user id', 'item id', 'rating', 'timestamp'])"
   ]
  },
  {
   "cell_type": "code",
   "execution_count": 3,
   "metadata": {},
   "outputs": [],
   "source": [
    "user_index_list = df.loc[:,'user id'].unique()\n",
    "item_index_list = df.loc[:,'item id'].unique()\n",
    "\n",
    "def reindex(df):\n",
    "    for i in tqdm(range(df.shape[0])):\n",
    "        old_user_id = df.iloc[i].loc['user id']\n",
    "        old_item_id = df.iloc[i].loc['item id']\n",
    "        new_user_id = np.where(user_index_list == old_user_id)[0][0]+1\n",
    "        new_item_id = np.where(item_index_list == old_item_id)[0][0]+1\n",
    "        df.iloc[i].loc['user id'] = new_user_id\n",
    "        df.iloc[i].loc['item id'] = new_item_id\n",
    "    return df"
   ]
  },
  {
   "cell_type": "code",
   "execution_count": 4,
   "metadata": {},
   "outputs": [
    {
     "data": {
      "application/vnd.jupyter.widget-view+json": {
       "model_id": "f0dc525b895844f391220356ea1aa1b7",
       "version_major": 2,
       "version_minor": 0
      },
      "text/plain": [
       "HBox(children=(FloatProgress(value=0.0, max=100000.0), HTML(value='')))"
      ]
     },
     "metadata": {},
     "output_type": "display_data"
    },
    {
     "name": "stdout",
     "output_type": "stream",
     "text": [
      "\n"
     ]
    }
   ],
   "source": [
    "df = reindex(df)"
   ]
  },
  {
   "cell_type": "code",
   "execution_count": 5,
   "metadata": {},
   "outputs": [
    {
     "data": {
      "application/vnd.jupyter.widget-view+json": {
       "model_id": "79eb03d2ea8f489c919d69d3b8300a2d",
       "version_major": 2,
       "version_minor": 0
      },
      "text/plain": [
       "HBox(children=(FloatProgress(value=0.0, max=75000.0), HTML(value='')))"
      ]
     },
     "metadata": {},
     "output_type": "display_data"
    },
    {
     "name": "stdout",
     "output_type": "stream",
     "text": [
      "\n"
     ]
    }
   ],
   "source": [
    "n = list(df.max().loc[['user id', 'item id']])\n",
    "r = np.zeros(n)\n",
    "train_set, test_set = train_test_split(df.to_numpy(), test_size=0.25)\n",
    "for i in tqdm(train_set):\n",
    "    r[i[0]-1,i[1]-1] = i[2]"
   ]
  },
  {
   "cell_type": "code",
   "execution_count": 6,
   "metadata": {},
   "outputs": [],
   "source": [
    "def cos(x,y):\n",
    "    if np.sqrt(np.dot(x,x)*np.dot(y,y)) == 0:\n",
    "        return 0\n",
    "    else:\n",
    "        return np.dot(x,y)/np.sqrt(np.dot(x,x)*np.dot(y,y))\n",
    "def pearson(x,y):\n",
    "    if np.sum(x) == 0 or np.sum(y) == 0:\n",
    "        return 0\n",
    "    else:\n",
    "        return np.corrcoef([x,y])[0,1]\n",
    "\n",
    "def create_sim_mat(r_mat, base, similar):\n",
    "    if base != 'user':\n",
    "        r_mat = r_mat.T\n",
    "    sim_mat = np.zeros([r_mat.shape[0]]*2)\n",
    "    for i in tqdm(range(sim_mat.shape[0])):\n",
    "        for j in range(sim_mat.shape[0]):\n",
    "            if i < j:\n",
    "                if similar == 'cos':\n",
    "                    sim = cos(r_mat[i],r_mat[j])\n",
    "                else:\n",
    "                    sim = pearson(r_mat[i],r_mat[j])\n",
    "                if np.isnan(sim):\n",
    "                    sim_mat[i,j] = 0\n",
    "                else:\n",
    "                    sim_mat[i,j] = sim\n",
    "    return sim_mat+sim_mat.T"
   ]
  },
  {
   "cell_type": "code",
   "execution_count": 7,
   "metadata": {},
   "outputs": [],
   "source": [
    "def find_kmax(array,k):\n",
    "    return array.argsort()[-k:]\n",
    "\n",
    "def CF(test_set, r_mat, sim_mat, base, similar, k):\n",
    "    if base != 'user':\n",
    "        r_mat = r_mat.T\n",
    "    y_hat = []\n",
    "\n",
    "    for i in tqdm(test_set):\n",
    "        if base == 'user':\n",
    "            m_id = i[0]-1\n",
    "            s_id = i[1]-1\n",
    "        else:\n",
    "            m_id = i[1]-1\n",
    "            s_id = i[0]-1\n",
    "        if np.count_nonzero(r_mat[m_id]):\n",
    "            sim_index = find_kmax(sim_mat[m_id],k)\n",
    "            if sim_mat[m_id][sim_index].sum()!=0:\n",
    "                r = np.dot(sim_mat[m_id][sim_index],r_mat[sim_index][:,s_id])/sim_mat[m_id][sim_index].sum()\n",
    "            else:\n",
    "                r = 0\n",
    "        else:\n",
    "            r = 0\n",
    "            \n",
    "        y_hat.append(r)\n",
    "    \n",
    "    loss = mean_squared_error(test_set[:,2],y_hat)\n",
    "    RMSE = np.sqrt(loss)\n",
    "    print(f'{base}-base model / similar method: {similar} / k={k} => RMSE:{RMSE}')\n",
    "    return RMSE"
   ]
  },
  {
   "cell_type": "code",
   "execution_count": 8,
   "metadata": {},
   "outputs": [
    {
     "data": {
      "application/vnd.jupyter.widget-view+json": {
       "model_id": "2559e94701a44d28a6df18bcf41ce3dd",
       "version_major": 2,
       "version_minor": 0
      },
      "text/plain": [
       "HBox(children=(FloatProgress(value=0.0, max=943.0), HTML(value='')))"
      ]
     },
     "metadata": {},
     "output_type": "display_data"
    },
    {
     "name": "stdout",
     "output_type": "stream",
     "text": [
      "\n"
     ]
    },
    {
     "data": {
      "application/vnd.jupyter.widget-view+json": {
       "model_id": "75861026ffc44dc6bc439d82e00357ea",
       "version_major": 2,
       "version_minor": 0
      },
      "text/plain": [
       "HBox(children=(FloatProgress(value=0.0, max=943.0), HTML(value='')))"
      ]
     },
     "metadata": {},
     "output_type": "display_data"
    },
    {
     "name": "stdout",
     "output_type": "stream",
     "text": [
      "\n"
     ]
    },
    {
     "data": {
      "application/vnd.jupyter.widget-view+json": {
       "model_id": "c812dcd42f9f4078acb135d96bea314a",
       "version_major": 2,
       "version_minor": 0
      },
      "text/plain": [
       "HBox(children=(FloatProgress(value=0.0, max=1682.0), HTML(value='')))"
      ]
     },
     "metadata": {},
     "output_type": "display_data"
    },
    {
     "name": "stdout",
     "output_type": "stream",
     "text": [
      "\n"
     ]
    },
    {
     "data": {
      "application/vnd.jupyter.widget-view+json": {
       "model_id": "f4d27e072e6a4b93b08c318e137f0cc1",
       "version_major": 2,
       "version_minor": 0
      },
      "text/plain": [
       "HBox(children=(FloatProgress(value=0.0, max=1682.0), HTML(value='')))"
      ]
     },
     "metadata": {},
     "output_type": "display_data"
    },
    {
     "name": "stdout",
     "output_type": "stream",
     "text": [
      "\n"
     ]
    }
   ],
   "source": [
    "bases = ['user', 'item']\n",
    "similar_methods = ['cos', 'pearson']\n",
    "user_cos_sim_mat = create_sim_mat(r, bases[0], similar_methods[0])\n",
    "user_pear_sim_mat = create_sim_mat(r, bases[0], similar_methods[1])\n",
    "item_cos_sim_mat = create_sim_mat(r, bases[1], similar_methods[0])\n",
    "item_pear_sim_mat = create_sim_mat(r, bases[1], similar_methods[1])\n",
    "\n",
    "user_cos_sim_mat_loss = []\n",
    "user_pear_sim_mat_loss = []\n",
    "item_cos_sim_mat_loss = []\n",
    "item_pear_sim_mat_loss = []\n",
    "    "
   ]
  },
  {
   "cell_type": "code",
   "execution_count": 9,
   "metadata": {},
   "outputs": [
    {
     "data": {
      "application/vnd.jupyter.widget-view+json": {
       "model_id": "d0737c5df24d440daf26f7e7cb9a6827",
       "version_major": 2,
       "version_minor": 0
      },
      "text/plain": [
       "HBox(children=(FloatProgress(value=0.0, max=25000.0), HTML(value='')))"
      ]
     },
     "metadata": {},
     "output_type": "display_data"
    },
    {
     "name": "stdout",
     "output_type": "stream",
     "text": [
      "\n",
      "user-base model / similar method: cos / k=3 => RMSE:2.6517570076270287\n"
     ]
    },
    {
     "data": {
      "application/vnd.jupyter.widget-view+json": {
       "model_id": "0da3f3afa4a84d31b7c00ce1b0a38d60",
       "version_major": 2,
       "version_minor": 0
      },
      "text/plain": [
       "HBox(children=(FloatProgress(value=0.0, max=25000.0), HTML(value='')))"
      ]
     },
     "metadata": {},
     "output_type": "display_data"
    },
    {
     "name": "stdout",
     "output_type": "stream",
     "text": [
      "\n",
      "user-base model / similar method: cos / k=4 => RMSE:2.624084949751048\n"
     ]
    },
    {
     "data": {
      "application/vnd.jupyter.widget-view+json": {
       "model_id": "22d29218f7ce407fb4cececa5650f625",
       "version_major": 2,
       "version_minor": 0
      },
      "text/plain": [
       "HBox(children=(FloatProgress(value=0.0, max=25000.0), HTML(value='')))"
      ]
     },
     "metadata": {},
     "output_type": "display_data"
    },
    {
     "name": "stdout",
     "output_type": "stream",
     "text": [
      "\n",
      "user-base model / similar method: cos / k=5 => RMSE:2.6008858409209914\n"
     ]
    },
    {
     "data": {
      "application/vnd.jupyter.widget-view+json": {
       "model_id": "5b521f1eea164e1fb1078ad31f39b8ae",
       "version_major": 2,
       "version_minor": 0
      },
      "text/plain": [
       "HBox(children=(FloatProgress(value=0.0, max=25000.0), HTML(value='')))"
      ]
     },
     "metadata": {},
     "output_type": "display_data"
    },
    {
     "name": "stdout",
     "output_type": "stream",
     "text": [
      "\n",
      "user-base model / similar method: cos / k=6 => RMSE:2.5855165903416295\n"
     ]
    },
    {
     "data": {
      "application/vnd.jupyter.widget-view+json": {
       "model_id": "156653165f6a4bb1974a6b4f4d4a8070",
       "version_major": 2,
       "version_minor": 0
      },
      "text/plain": [
       "HBox(children=(FloatProgress(value=0.0, max=25000.0), HTML(value='')))"
      ]
     },
     "metadata": {},
     "output_type": "display_data"
    },
    {
     "name": "stdout",
     "output_type": "stream",
     "text": [
      "\n",
      "user-base model / similar method: cos / k=7 => RMSE:2.5793633534404794\n"
     ]
    },
    {
     "data": {
      "application/vnd.jupyter.widget-view+json": {
       "model_id": "f69a6f5c69a1481084ecc53402795dfb",
       "version_major": 2,
       "version_minor": 0
      },
      "text/plain": [
       "HBox(children=(FloatProgress(value=0.0, max=25000.0), HTML(value='')))"
      ]
     },
     "metadata": {},
     "output_type": "display_data"
    },
    {
     "name": "stdout",
     "output_type": "stream",
     "text": [
      "\n",
      "user-base model / similar method: cos / k=8 => RMSE:2.574499671967206\n"
     ]
    },
    {
     "data": {
      "application/vnd.jupyter.widget-view+json": {
       "model_id": "1433f8c6606645f6865be73e58788811",
       "version_major": 2,
       "version_minor": 0
      },
      "text/plain": [
       "HBox(children=(FloatProgress(value=0.0, max=25000.0), HTML(value='')))"
      ]
     },
     "metadata": {},
     "output_type": "display_data"
    },
    {
     "name": "stdout",
     "output_type": "stream",
     "text": [
      "\n",
      "user-base model / similar method: cos / k=9 => RMSE:2.5689275834657446\n"
     ]
    },
    {
     "data": {
      "application/vnd.jupyter.widget-view+json": {
       "model_id": "61a9cff48bc54754b1cd54343f618413",
       "version_major": 2,
       "version_minor": 0
      },
      "text/plain": [
       "HBox(children=(FloatProgress(value=0.0, max=25000.0), HTML(value='')))"
      ]
     },
     "metadata": {},
     "output_type": "display_data"
    },
    {
     "name": "stdout",
     "output_type": "stream",
     "text": [
      "\n",
      "user-base model / similar method: cos / k=10 => RMSE:2.5645411907713243\n"
     ]
    },
    {
     "data": {
      "application/vnd.jupyter.widget-view+json": {
       "model_id": "3a05388dd428423096035b8b3eb8d002",
       "version_major": 2,
       "version_minor": 0
      },
      "text/plain": [
       "HBox(children=(FloatProgress(value=0.0, max=25000.0), HTML(value='')))"
      ]
     },
     "metadata": {},
     "output_type": "display_data"
    },
    {
     "name": "stdout",
     "output_type": "stream",
     "text": [
      "\n",
      "user-base model / similar method: cos / k=20 => RMSE:2.5563937563694616\n"
     ]
    },
    {
     "data": {
      "application/vnd.jupyter.widget-view+json": {
       "model_id": "73d237a4f9be429fb7be779217c5d238",
       "version_major": 2,
       "version_minor": 0
      },
      "text/plain": [
       "HBox(children=(FloatProgress(value=0.0, max=25000.0), HTML(value='')))"
      ]
     },
     "metadata": {},
     "output_type": "display_data"
    },
    {
     "name": "stdout",
     "output_type": "stream",
     "text": [
      "\n",
      "user-base model / similar method: cos / k=30 => RMSE:2.5676654100882446\n"
     ]
    },
    {
     "data": {
      "application/vnd.jupyter.widget-view+json": {
       "model_id": "f31c39ad862c4e14bd9dceef6159bad1",
       "version_major": 2,
       "version_minor": 0
      },
      "text/plain": [
       "HBox(children=(FloatProgress(value=0.0, max=25000.0), HTML(value='')))"
      ]
     },
     "metadata": {},
     "output_type": "display_data"
    },
    {
     "name": "stdout",
     "output_type": "stream",
     "text": [
      "\n",
      "user-base model / similar method: cos / k=40 => RMSE:2.5804583940202903\n"
     ]
    },
    {
     "data": {
      "application/vnd.jupyter.widget-view+json": {
       "model_id": "f071045fa11e4a198a5e5b8542ff4ef9",
       "version_major": 2,
       "version_minor": 0
      },
      "text/plain": [
       "HBox(children=(FloatProgress(value=0.0, max=25000.0), HTML(value='')))"
      ]
     },
     "metadata": {},
     "output_type": "display_data"
    },
    {
     "name": "stdout",
     "output_type": "stream",
     "text": [
      "\n",
      "user-base model / similar method: cos / k=50 => RMSE:2.5955380157064196\n"
     ]
    },
    {
     "data": {
      "application/vnd.jupyter.widget-view+json": {
       "model_id": "f23911b29bca47b49118d9e0ba39b812",
       "version_major": 2,
       "version_minor": 0
      },
      "text/plain": [
       "HBox(children=(FloatProgress(value=0.0, max=25000.0), HTML(value='')))"
      ]
     },
     "metadata": {},
     "output_type": "display_data"
    },
    {
     "name": "stdout",
     "output_type": "stream",
     "text": [
      "\n",
      "user-base model / similar method: pearson / k=3 => RMSE:2.775654875704315\n"
     ]
    },
    {
     "data": {
      "application/vnd.jupyter.widget-view+json": {
       "model_id": "35e19aa065814402b4385f34e6487269",
       "version_major": 2,
       "version_minor": 0
      },
      "text/plain": [
       "HBox(children=(FloatProgress(value=0.0, max=25000.0), HTML(value='')))"
      ]
     },
     "metadata": {},
     "output_type": "display_data"
    },
    {
     "name": "stdout",
     "output_type": "stream",
     "text": [
      "\n",
      "user-base model / similar method: pearson / k=4 => RMSE:2.733587965283488\n"
     ]
    },
    {
     "data": {
      "application/vnd.jupyter.widget-view+json": {
       "model_id": "ee1b7440d8444cb3851f1db05ef960e0",
       "version_major": 2,
       "version_minor": 0
      },
      "text/plain": [
       "HBox(children=(FloatProgress(value=0.0, max=25000.0), HTML(value='')))"
      ]
     },
     "metadata": {},
     "output_type": "display_data"
    },
    {
     "name": "stdout",
     "output_type": "stream",
     "text": [
      "\n",
      "user-base model / similar method: pearson / k=5 => RMSE:2.7160403036966203\n"
     ]
    },
    {
     "data": {
      "application/vnd.jupyter.widget-view+json": {
       "model_id": "989a02247ed641e68fcba0875fe7106c",
       "version_major": 2,
       "version_minor": 0
      },
      "text/plain": [
       "HBox(children=(FloatProgress(value=0.0, max=25000.0), HTML(value='')))"
      ]
     },
     "metadata": {},
     "output_type": "display_data"
    },
    {
     "name": "stdout",
     "output_type": "stream",
     "text": [
      "\n",
      "user-base model / similar method: pearson / k=6 => RMSE:2.6974751703835405\n"
     ]
    },
    {
     "data": {
      "application/vnd.jupyter.widget-view+json": {
       "model_id": "2787d88e0b44419dbbe9bf0dee39d0fe",
       "version_major": 2,
       "version_minor": 0
      },
      "text/plain": [
       "HBox(children=(FloatProgress(value=0.0, max=25000.0), HTML(value='')))"
      ]
     },
     "metadata": {},
     "output_type": "display_data"
    },
    {
     "name": "stdout",
     "output_type": "stream",
     "text": [
      "\n",
      "user-base model / similar method: pearson / k=7 => RMSE:2.688490792624041\n"
     ]
    },
    {
     "data": {
      "application/vnd.jupyter.widget-view+json": {
       "model_id": "487329a89be24ea6a96eb57812ba5806",
       "version_major": 2,
       "version_minor": 0
      },
      "text/plain": [
       "HBox(children=(FloatProgress(value=0.0, max=25000.0), HTML(value='')))"
      ]
     },
     "metadata": {},
     "output_type": "display_data"
    },
    {
     "name": "stdout",
     "output_type": "stream",
     "text": [
      "\n",
      "user-base model / similar method: pearson / k=8 => RMSE:2.681000369716987\n"
     ]
    },
    {
     "data": {
      "application/vnd.jupyter.widget-view+json": {
       "model_id": "52d30b1fbcd440b8ad90d4f0a5b1f0dd",
       "version_major": 2,
       "version_minor": 0
      },
      "text/plain": [
       "HBox(children=(FloatProgress(value=0.0, max=25000.0), HTML(value='')))"
      ]
     },
     "metadata": {},
     "output_type": "display_data"
    },
    {
     "name": "stdout",
     "output_type": "stream",
     "text": [
      "\n",
      "user-base model / similar method: pearson / k=9 => RMSE:2.677062876121221\n"
     ]
    },
    {
     "data": {
      "application/vnd.jupyter.widget-view+json": {
       "model_id": "8cfaaed768064e4db64f47a2151151c0",
       "version_major": 2,
       "version_minor": 0
      },
      "text/plain": [
       "HBox(children=(FloatProgress(value=0.0, max=25000.0), HTML(value='')))"
      ]
     },
     "metadata": {},
     "output_type": "display_data"
    },
    {
     "name": "stdout",
     "output_type": "stream",
     "text": [
      "\n",
      "user-base model / similar method: pearson / k=10 => RMSE:2.675638791279528\n"
     ]
    },
    {
     "data": {
      "application/vnd.jupyter.widget-view+json": {
       "model_id": "023cb455589f43a196021ce206c39bff",
       "version_major": 2,
       "version_minor": 0
      },
      "text/plain": [
       "HBox(children=(FloatProgress(value=0.0, max=25000.0), HTML(value='')))"
      ]
     },
     "metadata": {},
     "output_type": "display_data"
    },
    {
     "name": "stdout",
     "output_type": "stream",
     "text": [
      "\n",
      "user-base model / similar method: pearson / k=20 => RMSE:2.666381675840643\n"
     ]
    },
    {
     "data": {
      "application/vnd.jupyter.widget-view+json": {
       "model_id": "88524fe96b61469ab53c49466e866dcc",
       "version_major": 2,
       "version_minor": 0
      },
      "text/plain": [
       "HBox(children=(FloatProgress(value=0.0, max=25000.0), HTML(value='')))"
      ]
     },
     "metadata": {},
     "output_type": "display_data"
    },
    {
     "name": "stdout",
     "output_type": "stream",
     "text": [
      "\n",
      "user-base model / similar method: pearson / k=30 => RMSE:2.6766269365555337\n"
     ]
    },
    {
     "data": {
      "application/vnd.jupyter.widget-view+json": {
       "model_id": "17137ce66c7443ac90016c0309f65589",
       "version_major": 2,
       "version_minor": 0
      },
      "text/plain": [
       "HBox(children=(FloatProgress(value=0.0, max=25000.0), HTML(value='')))"
      ]
     },
     "metadata": {},
     "output_type": "display_data"
    },
    {
     "name": "stdout",
     "output_type": "stream",
     "text": [
      "\n",
      "user-base model / similar method: pearson / k=40 => RMSE:2.684288914865079\n"
     ]
    },
    {
     "data": {
      "application/vnd.jupyter.widget-view+json": {
       "model_id": "caf7e1eae11640298bfe997075c93bcb",
       "version_major": 2,
       "version_minor": 0
      },
      "text/plain": [
       "HBox(children=(FloatProgress(value=0.0, max=25000.0), HTML(value='')))"
      ]
     },
     "metadata": {},
     "output_type": "display_data"
    },
    {
     "name": "stdout",
     "output_type": "stream",
     "text": [
      "\n",
      "user-base model / similar method: pearson / k=50 => RMSE:2.6937418104464097\n"
     ]
    },
    {
     "data": {
      "application/vnd.jupyter.widget-view+json": {
       "model_id": "f9e21a9be0fb40fe8092d6e218abbab3",
       "version_major": 2,
       "version_minor": 0
      },
      "text/plain": [
       "HBox(children=(FloatProgress(value=0.0, max=25000.0), HTML(value='')))"
      ]
     },
     "metadata": {},
     "output_type": "display_data"
    },
    {
     "name": "stdout",
     "output_type": "stream",
     "text": [
      "\n",
      "item-base model / similar method: cos / k=3 => RMSE:2.5499662119682074\n"
     ]
    },
    {
     "data": {
      "application/vnd.jupyter.widget-view+json": {
       "model_id": "641664450ff149569b63dbc17908d7c4",
       "version_major": 2,
       "version_minor": 0
      },
      "text/plain": [
       "HBox(children=(FloatProgress(value=0.0, max=25000.0), HTML(value='')))"
      ]
     },
     "metadata": {},
     "output_type": "display_data"
    },
    {
     "name": "stdout",
     "output_type": "stream",
     "text": [
      "\n",
      "item-base model / similar method: cos / k=4 => RMSE:2.5026767643922856\n"
     ]
    },
    {
     "data": {
      "application/vnd.jupyter.widget-view+json": {
       "model_id": "de74daf77c884f6f8f96348b57570d2f",
       "version_major": 2,
       "version_minor": 0
      },
      "text/plain": [
       "HBox(children=(FloatProgress(value=0.0, max=25000.0), HTML(value='')))"
      ]
     },
     "metadata": {},
     "output_type": "display_data"
    },
    {
     "name": "stdout",
     "output_type": "stream",
     "text": [
      "\n",
      "item-base model / similar method: cos / k=5 => RMSE:2.481883780514972\n"
     ]
    },
    {
     "data": {
      "application/vnd.jupyter.widget-view+json": {
       "model_id": "50d8e113424f4d2380179883fb95e23c",
       "version_major": 2,
       "version_minor": 0
      },
      "text/plain": [
       "HBox(children=(FloatProgress(value=0.0, max=25000.0), HTML(value='')))"
      ]
     },
     "metadata": {},
     "output_type": "display_data"
    },
    {
     "name": "stdout",
     "output_type": "stream",
     "text": [
      "\n",
      "item-base model / similar method: cos / k=6 => RMSE:2.4647931412105764\n"
     ]
    },
    {
     "data": {
      "application/vnd.jupyter.widget-view+json": {
       "model_id": "a85f5294c229492786f4f7b80e2a2a4f",
       "version_major": 2,
       "version_minor": 0
      },
      "text/plain": [
       "HBox(children=(FloatProgress(value=0.0, max=25000.0), HTML(value='')))"
      ]
     },
     "metadata": {},
     "output_type": "display_data"
    },
    {
     "name": "stdout",
     "output_type": "stream",
     "text": [
      "\n",
      "item-base model / similar method: cos / k=7 => RMSE:2.4555566019532966\n"
     ]
    },
    {
     "data": {
      "application/vnd.jupyter.widget-view+json": {
       "model_id": "67650aa1103f43eaabca1d53b97d7914",
       "version_major": 2,
       "version_minor": 0
      },
      "text/plain": [
       "HBox(children=(FloatProgress(value=0.0, max=25000.0), HTML(value='')))"
      ]
     },
     "metadata": {},
     "output_type": "display_data"
    },
    {
     "name": "stdout",
     "output_type": "stream",
     "text": [
      "\n",
      "item-base model / similar method: cos / k=8 => RMSE:2.4522233475312794\n"
     ]
    },
    {
     "data": {
      "application/vnd.jupyter.widget-view+json": {
       "model_id": "5b9dfcb9f1c144298ac96638ae2262f7",
       "version_major": 2,
       "version_minor": 0
      },
      "text/plain": [
       "HBox(children=(FloatProgress(value=0.0, max=25000.0), HTML(value='')))"
      ]
     },
     "metadata": {},
     "output_type": "display_data"
    },
    {
     "name": "stdout",
     "output_type": "stream",
     "text": [
      "\n",
      "item-base model / similar method: cos / k=9 => RMSE:2.4487025897776102\n"
     ]
    },
    {
     "data": {
      "application/vnd.jupyter.widget-view+json": {
       "model_id": "f6834e46c2064be5a3d52e0fe4da7d76",
       "version_major": 2,
       "version_minor": 0
      },
      "text/plain": [
       "HBox(children=(FloatProgress(value=0.0, max=25000.0), HTML(value='')))"
      ]
     },
     "metadata": {},
     "output_type": "display_data"
    },
    {
     "name": "stdout",
     "output_type": "stream",
     "text": [
      "\n",
      "item-base model / similar method: cos / k=10 => RMSE:2.448857745308995\n"
     ]
    },
    {
     "data": {
      "application/vnd.jupyter.widget-view+json": {
       "model_id": "7ff96675002a4ce290821dc5ed35f94a",
       "version_major": 2,
       "version_minor": 0
      },
      "text/plain": [
       "HBox(children=(FloatProgress(value=0.0, max=25000.0), HTML(value='')))"
      ]
     },
     "metadata": {},
     "output_type": "display_data"
    },
    {
     "name": "stdout",
     "output_type": "stream",
     "text": [
      "\n",
      "item-base model / similar method: cos / k=20 => RMSE:2.4642616017394543\n"
     ]
    },
    {
     "data": {
      "application/vnd.jupyter.widget-view+json": {
       "model_id": "006a6ea0a1494c4094b1049414bb2bcb",
       "version_major": 2,
       "version_minor": 0
      },
      "text/plain": [
       "HBox(children=(FloatProgress(value=0.0, max=25000.0), HTML(value='')))"
      ]
     },
     "metadata": {},
     "output_type": "display_data"
    },
    {
     "name": "stdout",
     "output_type": "stream",
     "text": [
      "\n",
      "item-base model / similar method: cos / k=30 => RMSE:2.485145363393461\n"
     ]
    },
    {
     "data": {
      "application/vnd.jupyter.widget-view+json": {
       "model_id": "e5070fecfdee41f3b0c5d5039b95f53b",
       "version_major": 2,
       "version_minor": 0
      },
      "text/plain": [
       "HBox(children=(FloatProgress(value=0.0, max=25000.0), HTML(value='')))"
      ]
     },
     "metadata": {},
     "output_type": "display_data"
    },
    {
     "name": "stdout",
     "output_type": "stream",
     "text": [
      "\n",
      "item-base model / similar method: cos / k=40 => RMSE:2.50800133890881\n"
     ]
    },
    {
     "data": {
      "application/vnd.jupyter.widget-view+json": {
       "model_id": "2180d138de924a25bc4afbb811507b67",
       "version_major": 2,
       "version_minor": 0
      },
      "text/plain": [
       "HBox(children=(FloatProgress(value=0.0, max=25000.0), HTML(value='')))"
      ]
     },
     "metadata": {},
     "output_type": "display_data"
    },
    {
     "name": "stdout",
     "output_type": "stream",
     "text": [
      "\n",
      "item-base model / similar method: cos / k=50 => RMSE:2.5305649302733744\n"
     ]
    },
    {
     "data": {
      "application/vnd.jupyter.widget-view+json": {
       "model_id": "326b1c6e123c4121b026355c60c39432",
       "version_major": 2,
       "version_minor": 0
      },
      "text/plain": [
       "HBox(children=(FloatProgress(value=0.0, max=25000.0), HTML(value='')))"
      ]
     },
     "metadata": {},
     "output_type": "display_data"
    },
    {
     "name": "stdout",
     "output_type": "stream",
     "text": [
      "\n",
      "item-base model / similar method: pearson / k=3 => RMSE:2.7774679184056743\n"
     ]
    },
    {
     "data": {
      "application/vnd.jupyter.widget-view+json": {
       "model_id": "80897fbc636c44608dab65c85db54a98",
       "version_major": 2,
       "version_minor": 0
      },
      "text/plain": [
       "HBox(children=(FloatProgress(value=0.0, max=25000.0), HTML(value='')))"
      ]
     },
     "metadata": {},
     "output_type": "display_data"
    },
    {
     "name": "stdout",
     "output_type": "stream",
     "text": [
      "\n",
      "item-base model / similar method: pearson / k=4 => RMSE:2.738302892215653\n"
     ]
    },
    {
     "data": {
      "application/vnd.jupyter.widget-view+json": {
       "model_id": "d37fccd0a7524a7e91cdeaaf9777e7c4",
       "version_major": 2,
       "version_minor": 0
      },
      "text/plain": [
       "HBox(children=(FloatProgress(value=0.0, max=25000.0), HTML(value='')))"
      ]
     },
     "metadata": {},
     "output_type": "display_data"
    },
    {
     "name": "stdout",
     "output_type": "stream",
     "text": [
      "\n",
      "item-base model / similar method: pearson / k=5 => RMSE:2.7214066003284794\n"
     ]
    },
    {
     "data": {
      "application/vnd.jupyter.widget-view+json": {
       "model_id": "aebdd58269d74465a2fcc2f01c404efb",
       "version_major": 2,
       "version_minor": 0
      },
      "text/plain": [
       "HBox(children=(FloatProgress(value=0.0, max=25000.0), HTML(value='')))"
      ]
     },
     "metadata": {},
     "output_type": "display_data"
    },
    {
     "name": "stdout",
     "output_type": "stream",
     "text": [
      "\n",
      "item-base model / similar method: pearson / k=6 => RMSE:2.7107673388883375\n"
     ]
    },
    {
     "data": {
      "application/vnd.jupyter.widget-view+json": {
       "model_id": "8677718eed0a4f1f947f3d5ac824c0f5",
       "version_major": 2,
       "version_minor": 0
      },
      "text/plain": [
       "HBox(children=(FloatProgress(value=0.0, max=25000.0), HTML(value='')))"
      ]
     },
     "metadata": {},
     "output_type": "display_data"
    },
    {
     "name": "stdout",
     "output_type": "stream",
     "text": [
      "\n",
      "item-base model / similar method: pearson / k=7 => RMSE:2.7059525815974297\n"
     ]
    },
    {
     "data": {
      "application/vnd.jupyter.widget-view+json": {
       "model_id": "58ae011ee0c3436a862c40dc7ffd73f6",
       "version_major": 2,
       "version_minor": 0
      },
      "text/plain": [
       "HBox(children=(FloatProgress(value=0.0, max=25000.0), HTML(value='')))"
      ]
     },
     "metadata": {},
     "output_type": "display_data"
    },
    {
     "name": "stdout",
     "output_type": "stream",
     "text": [
      "\n",
      "item-base model / similar method: pearson / k=8 => RMSE:2.7047040300997915\n"
     ]
    },
    {
     "data": {
      "application/vnd.jupyter.widget-view+json": {
       "model_id": "dfeaa183080642b5a210d7dd4df1825f",
       "version_major": 2,
       "version_minor": 0
      },
      "text/plain": [
       "HBox(children=(FloatProgress(value=0.0, max=25000.0), HTML(value='')))"
      ]
     },
     "metadata": {},
     "output_type": "display_data"
    },
    {
     "name": "stdout",
     "output_type": "stream",
     "text": [
      "\n",
      "item-base model / similar method: pearson / k=9 => RMSE:2.704174087840193\n"
     ]
    },
    {
     "data": {
      "application/vnd.jupyter.widget-view+json": {
       "model_id": "d1596a97d6994ff5814b39a021b1c7c2",
       "version_major": 2,
       "version_minor": 0
      },
      "text/plain": [
       "HBox(children=(FloatProgress(value=0.0, max=25000.0), HTML(value='')))"
      ]
     },
     "metadata": {},
     "output_type": "display_data"
    },
    {
     "name": "stdout",
     "output_type": "stream",
     "text": [
      "\n",
      "item-base model / similar method: pearson / k=10 => RMSE:2.7004564745132913\n"
     ]
    },
    {
     "data": {
      "application/vnd.jupyter.widget-view+json": {
       "model_id": "38e73a6a8d6b48e284929c7ee8a94a82",
       "version_major": 2,
       "version_minor": 0
      },
      "text/plain": [
       "HBox(children=(FloatProgress(value=0.0, max=25000.0), HTML(value='')))"
      ]
     },
     "metadata": {},
     "output_type": "display_data"
    },
    {
     "name": "stdout",
     "output_type": "stream",
     "text": [
      "\n",
      "item-base model / similar method: pearson / k=20 => RMSE:2.715245993274936\n"
     ]
    },
    {
     "data": {
      "application/vnd.jupyter.widget-view+json": {
       "model_id": "8b02a09f8b78491ea5224d0425b1e84a",
       "version_major": 2,
       "version_minor": 0
      },
      "text/plain": [
       "HBox(children=(FloatProgress(value=0.0, max=25000.0), HTML(value='')))"
      ]
     },
     "metadata": {},
     "output_type": "display_data"
    },
    {
     "name": "stdout",
     "output_type": "stream",
     "text": [
      "\n",
      "item-base model / similar method: pearson / k=30 => RMSE:2.7361667050073875\n"
     ]
    },
    {
     "data": {
      "application/vnd.jupyter.widget-view+json": {
       "model_id": "44eef0e5f0b14dafb4a5f910d3df4e69",
       "version_major": 2,
       "version_minor": 0
      },
      "text/plain": [
       "HBox(children=(FloatProgress(value=0.0, max=25000.0), HTML(value='')))"
      ]
     },
     "metadata": {},
     "output_type": "display_data"
    },
    {
     "name": "stdout",
     "output_type": "stream",
     "text": [
      "\n",
      "item-base model / similar method: pearson / k=40 => RMSE:2.755510684282842\n"
     ]
    },
    {
     "data": {
      "application/vnd.jupyter.widget-view+json": {
       "model_id": "a1b635b035c143619e548621355e9285",
       "version_major": 2,
       "version_minor": 0
      },
      "text/plain": [
       "HBox(children=(FloatProgress(value=0.0, max=25000.0), HTML(value='')))"
      ]
     },
     "metadata": {},
     "output_type": "display_data"
    },
    {
     "name": "stdout",
     "output_type": "stream",
     "text": [
      "\n",
      "item-base model / similar method: pearson / k=50 => RMSE:2.7726720492841452\n"
     ]
    }
   ],
   "source": [
    "ks = [k for k in range(3,10)]+[k for k in range(10,60,10)]\n",
    "for k in ks:\n",
    "    user_cos_sim_mat_loss.append(CF(test_set, r, user_cos_sim_mat, bases[0], similar_methods[0], k))\n",
    "    \n",
    "for k in ks:\n",
    "    user_pear_sim_mat_loss.append(CF(test_set, r, user_pear_sim_mat, bases[0], similar_methods[1], k))\n",
    "\n",
    "for k in ks:\n",
    "    item_cos_sim_mat_loss.append(CF(test_set, r, item_cos_sim_mat, bases[1], similar_methods[0], k))\n",
    "\n",
    "for k in ks:\n",
    "    item_pear_sim_mat_loss.append(CF(test_set, r, item_pear_sim_mat, bases[1], similar_methods[1], k))"
   ]
  },
  {
   "cell_type": "code",
   "execution_count": 10,
   "metadata": {
    "scrolled": true
   },
   "outputs": [
    {
     "name": "stderr",
     "output_type": "stream",
     "text": [
      "No handles with labels found to put in legend.\n"
     ]
    },
    {
     "data": {
      "text/plain": [
       "<matplotlib.legend.Legend at 0x7f944eba4eb0>"
      ]
     },
     "execution_count": 10,
     "metadata": {},
     "output_type": "execute_result"
    },
    {
     "data": {
      "image/png": "[encoded data removed]",
      "text/plain": [
       "<Figure size 432x288 with 1 Axes>"
      ]
     },
     "metadata": {
      "needs_background": "light"
     },
     "output_type": "display_data"
    }
   ],
   "source": [
    "plt.figure()\n",
    "plt.plot(ks,user_cos_sim_mat_loss,color='red')\n",
    "plt.plot(ks,user_pear_sim_mat_loss, color='green')\n",
    "plt.plot(ks,item_cos_sim_mat_loss, color='blue')\n",
    "plt.plot(ks,item_pear_sim_mat_loss, color='black')\n",
    "plt.xlabel('number of K')\n",
    "plt.ylabel('RMSE')\n",
    "plt.grid(True)\n",
    "plt.legend()"
   ]
  },
  {
   "cell_type": "code",
   "execution_count": 11,
   "metadata": {},
   "outputs": [],
   "source": [
    "class MF_bias():\n",
    "    def __init__(self, r_true, k, alph, lmbda):\n",
    "        self.r_true = r_true\n",
    "        self.k = k\n",
    "        self.alph = alph\n",
    "        self.lmbda = lmbda\n",
    "        self.xm = np.random.uniform(0,3,[n[0],k])\n",
    "        self.ym = np.random.uniform(0,3,[k,n[1]])\n",
    "        self.mu = r_true[r_true!=0].mean()\n",
    "        self.bu = r_true.sum(1)/(r_true!=0).sum(1) - self.mu\n",
    "        if ((r_true!=0).sum(0) != 0).all():\n",
    "            self.bi = self.r_true.sum(0)/(self.r_true!=0).sum(0) - self.mu\n",
    "        else:\n",
    "            self.bi = np.zeros(n[1])\n",
    "        self.r_hat = ((np.dot(self.xm,self.ym)+self.bi).T+self.bu).T\n",
    "        \n",
    "    def __call__(self, u_id, i_id, update=False):            \n",
    "        \n",
    "        if update:\n",
    "            e = self.r_hat[u_id,i_id] - self.r_true[u_id,i_id]\n",
    "            bias = np.array([self.mu,self.bu[u_id],self.bi[i_id]])\n",
    "            grad_x = self.alph*(e*self.ym[:,i_id]+self.lmbda*self.xm[u_id])\n",
    "            grad_y = self.alph*(e*self.xm[u_id]+self.lmbda*self.ym[:,i_id])\n",
    "            grad_bias = self.alph*(e + self.lmbda * bias)\n",
    "        \n",
    "            self.xm[u_id] = self.xm[u_id] - grad_x\n",
    "            self.ym[:,i_id] = self.ym[:,i_id] - grad_y\n",
    "            bias = bias - grad_bias\n",
    "            self.mu, self.bu[u_id], self.bi[i_id] = bias[0], bias[1], bias[2]\n",
    "        \n",
    "        self.r_hat[u_id] = np.dot(self.xm[u_id],self.ym)+self.bu[u_id]+self.bi+self.mu\n",
    "        self.r_hat[:,i_id] = np.dot(self.xm,self.ym[:,i_id])+self.bu+self.bi[i_id]+self.mu\n",
    "        \n",
    "        return self.r_hat[u_id,i_id]"
   ]
  },
  {
   "cell_type": "code",
   "execution_count": 12,
   "metadata": {},
   "outputs": [],
   "source": [
    "class MF_nobias():\n",
    "    def __init__(self, r_true, k, alph, lmbda):\n",
    "        self.r_true = r_true\n",
    "        self.k = k\n",
    "        self.alph = alph\n",
    "        self.lmbda = lmbda\n",
    "        self.xm = np.random.uniform(0,3,[n[0],k])\n",
    "        self.ym = np.random.uniform(0,3,[k,n[1]])\n",
    "        self.r_hat = np.dot(self.xm,self.ym)\n",
    "        \n",
    "    def __call__(self, u_id, i_id, update=False):\n",
    "        \n",
    "        if update:\n",
    "            e = self.r_hat[u_id,i_id] - self.r_true[u_id,i_id]\n",
    "            grad_x = self.alph*(e*self.ym[:,i_id]+self.lmbda*self.xm[u_id])\n",
    "            grad_y = self.alph*(e*self.xm[u_id]+self.lmbda*self.ym[:,i_id])\n",
    "\n",
    "            self.xm[u_id] = self.xm[u_id] - grad_x\n",
    "            self.ym[:,i_id] = self.ym[:,i_id] - grad_y\n",
    "            \n",
    "        self.r_hat[u_id] = np.dot(self.xm[u_id],self.ym)\n",
    "        self.r_hat[:,i_id] = np.dot(self.xm,self.ym[:,i_id])\n",
    "        \n",
    "        return self.r_hat[u_id,i_id]"
   ]
  },
  {
   "cell_type": "code",
   "execution_count": 13,
   "metadata": {},
   "outputs": [
    {
     "data": {
      "application/vnd.jupyter.widget-view+json": {
       "model_id": "c0c817ce33bc402b87aa29e6613d129c",
       "version_major": 2,
       "version_minor": 0
      },
      "text/plain": [
       "HBox(children=(FloatProgress(value=0.0), HTML(value='')))"
      ]
     },
     "metadata": {},
     "output_type": "display_data"
    },
    {
     "name": "stdout",
     "output_type": "stream",
     "text": [
      "\n"
     ]
    }
   ],
   "source": [
    "train_losses = []\n",
    "test_losses = []\n",
    "\n",
    "model_b = MF_bias(r, 20, 0.01, 0.1)\n",
    "model_nb = MF_nobias(r, 20, 0.01, 0.1)\n",
    "\n",
    "for i in tqdm(range(100)):\n",
    "    losses = []\n",
    "    for row in train_set:\n",
    "        u_id = row[0]-1\n",
    "        i_id = row[1]-1\n",
    "        y_true = row[2]\n",
    "        y_hat_b = model_b(u_id, i_id, True)\n",
    "        y_hat_nb = model_nb(u_id,i_id,True)\n",
    "        e = np.array([y_hat_b,y_hat_nb])-y_true\n",
    "        losses.append(e**2)\n",
    "    \n",
    "    losses = np.array(losses) \n",
    "    train_RMSE = np.sqrt(np.mean(losses,axis=0))\n",
    "    train_losses.append(train_RMSE)\n",
    "\n",
    "    u_id = test_set[:,0]-1\n",
    "    i_id = test_set[:,1]-1\n",
    "    y_true = test_set[:,2]\n",
    "    e = np.array([model_b.r_hat[u_id,i_id],model_nb.r_hat[u_id,i_id]])-y_true\n",
    "\n",
    "    test_RMSE = np.sqrt(np.mean(e**2,axis=1))\n",
    "    test_losses.append(test_RMSE)\n",
    "    #print(f'Model Bias Training RMSE: {train_RMSE[0]}  Testing RMSE: {test_RMSE[0]}\\nModel no Bias Training RMSE: {train_RMSE[1]}  Testing RMSE: {test_RMSE[1]}')"
   ]
  },
  {
   "cell_type": "code",
   "execution_count": 14,
   "metadata": {},
   "outputs": [
    {
     "data": {
      "text/plain": [
       "<matplotlib.legend.Legend at 0x7f9438627460>"
      ]
     },
     "execution_count": 14,
     "metadata": {},
     "output_type": "execute_result"
    },
    {
     "data": {
      "image/png": "[encoded data removed]",
      "text/plain": [
       "<Figure size 432x288 with 1 Axes>"
      ]
     },
     "metadata": {
      "needs_background": "light"
     },
     "output_type": "display_data"
    }
   ],
   "source": [
    "train_losses = np.array(train_losses).T\n",
    "test_losses = np.array(test_losses).T\n",
    "plt.figure()\n",
    "plt.plot(train_losses[0], label='MF-bias(training)')\n",
    "plt.plot(train_losses[1], label='MF-nobias(training)')\n",
    "plt.plot(test_losses[0], label='MF-bias(testing)')\n",
    "plt.plot(test_losses[1], label='MF-nobias(testing)')\n",
    "plt.xlabel('Iteration')\n",
    "plt.ylabel('RMSE')\n",
    "plt.grid(True)\n",
    "plt.legend()"
   ]
  },
  {
   "cell_type": "code",
   "execution_count": 16,
   "metadata": {},
   "outputs": [
    {
     "data": {
      "application/vnd.jupyter.widget-view+json": {
       "model_id": "a1072981787f4e7d9b1b03d14c39e69b",
       "version_major": 2,
       "version_minor": 0
      },
      "text/plain": [
       "HBox(children=(FloatProgress(value=0.0, max=20.0), HTML(value='')))"
      ]
     },
     "metadata": {},
     "output_type": "display_data"
    },
    {
     "name": "stderr",
     "output_type": "stream",
     "text": [
      "<ipython-input-11-ad83d3582591>:22: RuntimeWarning: overflow encountered in multiply\n",
      "  grad_x = self.alph*(e*self.ym[:,i_id]+self.lmbda*self.xm[u_id])\n",
      "<ipython-input-11-ad83d3582591>:23: RuntimeWarning: overflow encountered in multiply\n",
      "  grad_y = self.alph*(e*self.xm[u_id]+self.lmbda*self.ym[:,i_id])\n",
      "<ipython-input-11-ad83d3582591>:28: RuntimeWarning: invalid value encountered in subtract\n",
      "  bias = bias - grad_bias\n",
      "<ipython-input-12-7fdd9b5475e8>:16: RuntimeWarning: overflow encountered in multiply\n",
      "  grad_y = self.alph*(e*self.xm[u_id]+self.lmbda*self.ym[:,i_id])\n",
      "<ipython-input-12-7fdd9b5475e8>:15: RuntimeWarning: overflow encountered in multiply\n",
      "  grad_x = self.alph*(e*self.ym[:,i_id]+self.lmbda*self.xm[u_id])\n",
      "<ipython-input-11-ad83d3582591>:32: RuntimeWarning: invalid value encountered in add\n",
      "  self.r_hat[:,i_id] = np.dot(self.xm,self.ym[:,i_id])+self.bu+self.bi[i_id]+self.mu\n",
      "<ipython-input-11-ad83d3582591>:31: RuntimeWarning: invalid value encountered in add\n",
      "  self.r_hat[u_id] = np.dot(self.xm[u_id],self.ym)+self.bu[u_id]+self.bi+self.mu\n",
      "<ipython-input-11-ad83d3582591>:26: RuntimeWarning: invalid value encountered in subtract\n",
      "  self.xm[u_id] = self.xm[u_id] - grad_x\n",
      "<ipython-input-12-7fdd9b5475e8>:19: RuntimeWarning: invalid value encountered in subtract\n",
      "  self.ym[:,i_id] = self.ym[:,i_id] - grad_y\n"
     ]
    },
    {
     "name": "stdout",
     "output_type": "stream",
     "text": [
      "\n"
     ]
    }
   ],
   "source": [
    "train_k_losses = []\n",
    "test_k_losses = []\n",
    "\n",
    "k_dim = np.arange(5,101,5)\n",
    "for k in tqdm(k_dim):\n",
    "    model_b = MF_bias(r, k, 0.01, 0.1)\n",
    "    model_nb = MF_nobias(r, k, 0.01, 0.1)\n",
    "\n",
    "    for i in range(30):\n",
    "        for row in train_set:\n",
    "            u_id = row[0]-1\n",
    "            i_id = row[1]-1\n",
    "            y_hat_b = model_b(u_id, i_id, True)\n",
    "            y_hat_nb = model_nb(u_id,i_id,True)\n",
    "    losses=[]\n",
    "    for row in train_set:\n",
    "        u_id = row[0]-1\n",
    "        i_id = row[1]-1\n",
    "        y_true = row[2]\n",
    "        y_hat_b = model_b(u_id, i_id, True)\n",
    "        y_hat_nb = model_nb(u_id,i_id,True)\n",
    "        e = np.array([y_hat_b,y_hat_nb])-y_true\n",
    "        losses.append(e**2)\n",
    "    losses = np.array(losses)\n",
    "    train_RMSE = np.sqrt(np.mean(losses,axis=0))\n",
    "    train_k_losses.append(train_RMSE)\n",
    "    \n",
    "    losses = []\n",
    "    for row in test_set:\n",
    "        u_id = row[0]-1\n",
    "        i_id = row[1]-1\n",
    "        y_true = row[2]\n",
    "        y_hat_b = model_b(u_id,i_id)\n",
    "        y_hat_nb = model_nb(u_id,i_id)\n",
    "        e = np.array([y_hat_b,y_hat_nb])-y_true\n",
    "        losses.append(e**2)\n",
    "\n",
    "    losses = np.array(losses)\n",
    "    test_RMSE = np.sqrt(np.mean(losses,axis=0))\n",
    "    test_k_losses.append(test_RMSE)"
   ]
  },
  {
   "cell_type": "code",
   "execution_count": 31,
   "metadata": {},
   "outputs": [
    {
     "data": {
      "text/plain": [
       "<matplotlib.legend.Legend at 0x7f943ae929a0>"
      ]
     },
     "execution_count": 31,
     "metadata": {},
     "output_type": "execute_result"
    },
    {
     "data": {
      "image/png": "[encoded data removed]",
      "text/plain": [
       "<Figure size 432x288 with 1 Axes>"
      ]
     },
     "metadata": {
      "needs_background": "light"
     },
     "output_type": "display_data"
    }
   ],
   "source": [
    "train_k_losses = np.array(train_k_losses).T\n",
    "test_k_losses = np.array(test_k_losses).T\n",
    "plt.figure()\n",
    "plt.plot(k_dim , train_k_losses[0], label='MF-bias(training)')\n",
    "plt.plot(k_dim, train_k_losses[1], label='MF-nobias(training)')\n",
    "plt.plot(k_dim, test_k_losses[0], label='MF-bias(testing)')\n",
    "plt.plot(k_dim, test_k_losses[1], label='MF-nobias(testing)')\n",
    "plt.xlabel('Number of latent factors K')\n",
    "plt.ylabel('RMSE')\n",
    "plt.grid(True)\n",
    "plt.legend()"
   ]
  },
  {
   "cell_type": "code",
   "execution_count": 26,
   "metadata": {},
   "outputs": [],
   "source": [
    "default = []\n",
    "tuned = []\n",
    "\n",
    "default.append(user_cos_sim_mat_loss[6])\n",
    "default.append(user_pear_sim_mat_loss[6])\n",
    "default.append(item_cos_sim_mat_loss[6])\n",
    "default.append(item_pear_sim_mat_loss[6])\n",
    "default.append(test_losses[0][-1])\n",
    "default.append(test_losses[1][-1])\n",
    "\n",
    "tuned.append(min(user_cos_sim_mat_loss))\n",
    "tuned.append(min(user_pear_sim_mat_loss))\n",
    "tuned.append(min(item_cos_sim_mat_loss))\n",
    "tuned.append(min(item_pear_sim_mat_loss))\n",
    "tuned.append(min(test_k_losses[0]))\n",
    "tuned.append(min(test_k_losses[1]))\n"
   ]
  },
  {
   "cell_type": "code",
   "execution_count": 22,
   "metadata": {},
   "outputs": [
    {
     "data": {
      "image/png": "[encoded data removed]",
      "text/plain": [
       "<Figure size 576x432 with 1 Axes>"
      ]
     },
     "metadata": {
      "needs_background": "light"
     },
     "output_type": "display_data"
    }
   ],
   "source": [
    "labels = ['Default Parameters', 'Tuned Parameters']\n",
    "x = np.arange(len(labels))  # the label locations\n",
    "width = 0.15  # the width of the bars\n",
    "\n",
    "xy = (- width*2, - width*1, - width*0, + width*1, + width*2, + width*3)\n",
    "\n",
    "fig, ax = plt.subplots(figsize=(8,6))\n",
    "rects1 = ax.bar(x + xy[0], [default[1],tuned[1]], width, label='U-CF-pcc')\n",
    "rects2 = ax.bar(x + xy[1], [default[0],tuned[0]], width, label='U-CF-cos')\n",
    "rects3 = ax.bar(x + xy[2], [default[3],tuned[3]], width, label='I-CF-pcc')\n",
    "rects4 = ax.bar(x + xy[3], [default[2],tuned[2]], width, label='I-CF-cos')\n",
    "rects5 = ax.bar(x + xy[4], [default[5],tuned[5]], width, label='MF-nobias')\n",
    "rects6 = ax.bar(x + xy[5], [default[4],tuned[4]], width, label='MF-bias')\n",
    "\n",
    "ax.set_ylabel('RMSE')\n",
    "ax.set_ylim((0, 4))\n",
    "ax.set_xticks(x)\n",
    "ax.set_xticklabels(labels)\n",
    "ax.legend()\n",
    "\n",
    "def autolabel(rects):\n",
    "    \n",
    "    if rects[0].get_height() < rects[1].get_height():\n",
    "        color = ['red', 'black']\n",
    "    else:\n",
    "        color = ['black', 'red']    \n",
    "    \n",
    "    for i, rect in enumerate(rects):\n",
    "        height = rect.get_height()\n",
    "        ax.annotate('{}'.format(round(height, 3)),\n",
    "                    xy=(rect.get_x()+rect.get_width()/2, height),\n",
    "                    xytext=(0, 3),  # 3 points vertical offset\n",
    "                    textcoords=\"offset points\",\n",
    "                    ha='center', va='bottom', color=color[i])\n",
    "\n",
    "autolabel(rects1)\n",
    "autolabel(rects2)\n",
    "autolabel(rects3)\n",
    "autolabel(rects4)\n",
    "autolabel(rects5)\n",
    "autolabel(rects6)"
   ]
  },
  {
   "cell_type": "code",
   "execution_count": null,
   "metadata": {},
   "outputs": [],
   "source": []
  }
 ],
 "metadata": {
  "kernelspec": {
   "display_name": "Python 3",
   "language": "python",
   "name": "python3"
  },
  "language_info": {
   "codemirror_mode": {
    "name": "ipython",
    "version": 3
   },
   "file_extension": ".py",
   "mimetype": "text/x-python",
   "name": "python",
   "nbconvert_exporter": "python",
   "pygments_lexer": "ipython3",
   "version": "3.8.3"
  }
 },
 "nbformat": 4,
 "nbformat_minor": 4
}
